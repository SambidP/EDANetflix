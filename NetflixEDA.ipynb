{
 "cells": [
  {
   "cell_type": "markdown",
   "id": "b061bfe9-0750-48bf-a559-88a1c42a84e4",
   "metadata": {},
   "source": [
    "# Netflix Exploratory Data Analysis\n",
    "## pandas, numpy, seaborn implementation\n",
    "This is an eda of netflix data from kaggle\n",
    "\n",
    "- [Understand the dataset, types and missing values]\n",
    "- [Clean the dataset and handle the missing values]\n",
    "- [Perform Data Visualization]\n",
    "- [Create Final Summary Report]"
   ]
  },
  {
   "cell_type": "code",
   "execution_count": 2,
   "id": "4271779e-f790-401e-b8fa-ec082d187c56",
   "metadata": {},
   "outputs": [],
   "source": [
    "import numpy as np\n",
    "import pandas as pd\n",
    "import seaborn as sns\n",
    "import matplotlib.pyplot as plt"
   ]
  },
  {
   "cell_type": "code",
   "execution_count": 3,
   "id": "6a67782c-8581-43d4-9783-84cb74d18472",
   "metadata": {},
   "outputs": [
    {
     "data": {
      "text/html": [
       "<div>\n",
       "<style scoped>\n",
       "    .dataframe tbody tr th:only-of-type {\n",
       "        vertical-align: middle;\n",
       "    }\n",
       "\n",
       "    .dataframe tbody tr th {\n",
       "        vertical-align: top;\n",
       "    }\n",
       "\n",
       "    .dataframe thead th {\n",
       "        text-align: right;\n",
       "    }\n",
       "</style>\n",
       "<table border=\"1\" class=\"dataframe\">\n",
       "  <thead>\n",
       "    <tr style=\"text-align: right;\">\n",
       "      <th></th>\n",
       "      <th>show_id</th>\n",
       "      <th>type</th>\n",
       "      <th>title</th>\n",
       "      <th>director</th>\n",
       "      <th>cast</th>\n",
       "      <th>country</th>\n",
       "      <th>date_added</th>\n",
       "      <th>release_year</th>\n",
       "      <th>rating</th>\n",
       "      <th>duration</th>\n",
       "      <th>listed_in</th>\n",
       "      <th>description</th>\n",
       "    </tr>\n",
       "  </thead>\n",
       "  <tbody>\n",
       "    <tr>\n",
       "      <th>0</th>\n",
       "      <td>s1</td>\n",
       "      <td>Movie</td>\n",
       "      <td>Dick Johnson Is Dead</td>\n",
       "      <td>Kirsten Johnson</td>\n",
       "      <td>NaN</td>\n",
       "      <td>United States</td>\n",
       "      <td>September 25, 2021</td>\n",
       "      <td>2020</td>\n",
       "      <td>PG-13</td>\n",
       "      <td>90 min</td>\n",
       "      <td>Documentaries</td>\n",
       "      <td>As her father nears the end of his life, filmm...</td>\n",
       "    </tr>\n",
       "    <tr>\n",
       "      <th>1</th>\n",
       "      <td>s2</td>\n",
       "      <td>TV Show</td>\n",
       "      <td>Blood &amp; Water</td>\n",
       "      <td>NaN</td>\n",
       "      <td>Ama Qamata, Khosi Ngema, Gail Mabalane, Thaban...</td>\n",
       "      <td>South Africa</td>\n",
       "      <td>September 24, 2021</td>\n",
       "      <td>2021</td>\n",
       "      <td>TV-MA</td>\n",
       "      <td>2 Seasons</td>\n",
       "      <td>International TV Shows, TV Dramas, TV Mysteries</td>\n",
       "      <td>After crossing paths at a party, a Cape Town t...</td>\n",
       "    </tr>\n",
       "    <tr>\n",
       "      <th>2</th>\n",
       "      <td>s3</td>\n",
       "      <td>TV Show</td>\n",
       "      <td>Ganglands</td>\n",
       "      <td>Julien Leclercq</td>\n",
       "      <td>Sami Bouajila, Tracy Gotoas, Samuel Jouy, Nabi...</td>\n",
       "      <td>NaN</td>\n",
       "      <td>September 24, 2021</td>\n",
       "      <td>2021</td>\n",
       "      <td>TV-MA</td>\n",
       "      <td>1 Season</td>\n",
       "      <td>Crime TV Shows, International TV Shows, TV Act...</td>\n",
       "      <td>To protect his family from a powerful drug lor...</td>\n",
       "    </tr>\n",
       "    <tr>\n",
       "      <th>3</th>\n",
       "      <td>s4</td>\n",
       "      <td>TV Show</td>\n",
       "      <td>Jailbirds New Orleans</td>\n",
       "      <td>NaN</td>\n",
       "      <td>NaN</td>\n",
       "      <td>NaN</td>\n",
       "      <td>September 24, 2021</td>\n",
       "      <td>2021</td>\n",
       "      <td>TV-MA</td>\n",
       "      <td>1 Season</td>\n",
       "      <td>Docuseries, Reality TV</td>\n",
       "      <td>Feuds, flirtations and toilet talk go down amo...</td>\n",
       "    </tr>\n",
       "    <tr>\n",
       "      <th>4</th>\n",
       "      <td>s5</td>\n",
       "      <td>TV Show</td>\n",
       "      <td>Kota Factory</td>\n",
       "      <td>NaN</td>\n",
       "      <td>Mayur More, Jitendra Kumar, Ranjan Raj, Alam K...</td>\n",
       "      <td>India</td>\n",
       "      <td>September 24, 2021</td>\n",
       "      <td>2021</td>\n",
       "      <td>TV-MA</td>\n",
       "      <td>2 Seasons</td>\n",
       "      <td>International TV Shows, Romantic TV Shows, TV ...</td>\n",
       "      <td>In a city of coaching centers known to train I...</td>\n",
       "    </tr>\n",
       "  </tbody>\n",
       "</table>\n",
       "</div>"
      ],
      "text/plain": [
       "  show_id     type                  title         director  \\\n",
       "0      s1    Movie   Dick Johnson Is Dead  Kirsten Johnson   \n",
       "1      s2  TV Show          Blood & Water              NaN   \n",
       "2      s3  TV Show              Ganglands  Julien Leclercq   \n",
       "3      s4  TV Show  Jailbirds New Orleans              NaN   \n",
       "4      s5  TV Show           Kota Factory              NaN   \n",
       "\n",
       "                                                cast        country  \\\n",
       "0                                                NaN  United States   \n",
       "1  Ama Qamata, Khosi Ngema, Gail Mabalane, Thaban...   South Africa   \n",
       "2  Sami Bouajila, Tracy Gotoas, Samuel Jouy, Nabi...            NaN   \n",
       "3                                                NaN            NaN   \n",
       "4  Mayur More, Jitendra Kumar, Ranjan Raj, Alam K...          India   \n",
       "\n",
       "           date_added  release_year rating   duration  \\\n",
       "0  September 25, 2021          2020  PG-13     90 min   \n",
       "1  September 24, 2021          2021  TV-MA  2 Seasons   \n",
       "2  September 24, 2021          2021  TV-MA   1 Season   \n",
       "3  September 24, 2021          2021  TV-MA   1 Season   \n",
       "4  September 24, 2021          2021  TV-MA  2 Seasons   \n",
       "\n",
       "                                           listed_in  \\\n",
       "0                                      Documentaries   \n",
       "1    International TV Shows, TV Dramas, TV Mysteries   \n",
       "2  Crime TV Shows, International TV Shows, TV Act...   \n",
       "3                             Docuseries, Reality TV   \n",
       "4  International TV Shows, Romantic TV Shows, TV ...   \n",
       "\n",
       "                                         description  \n",
       "0  As her father nears the end of his life, filmm...  \n",
       "1  After crossing paths at a party, a Cape Town t...  \n",
       "2  To protect his family from a powerful drug lor...  \n",
       "3  Feuds, flirtations and toilet talk go down amo...  \n",
       "4  In a city of coaching centers known to train I...  "
      ]
     },
     "execution_count": 3,
     "metadata": {},
     "output_type": "execute_result"
    }
   ],
   "source": [
    "df = pd.read_csv('Desktop/ipynb/netflix_titles.csv')\n",
    "df.head()"
   ]
  },
  {
   "cell_type": "code",
   "execution_count": 4,
   "id": "e72220f1-34a2-4902-a7f6-7ad779d87846",
   "metadata": {},
   "outputs": [
    {
     "data": {
      "text/plain": [
       "(8807, 12)"
      ]
     },
     "execution_count": 4,
     "metadata": {},
     "output_type": "execute_result"
    }
   ],
   "source": [
    "df.shape #rows and columns"
   ]
  },
  {
   "cell_type": "code",
   "execution_count": 5,
   "id": "4b7f6fd7-d6b5-4f89-8563-0cf5d4ad4331",
   "metadata": {},
   "outputs": [
    {
     "data": {
      "text/html": [
       "<div>\n",
       "<style scoped>\n",
       "    .dataframe tbody tr th:only-of-type {\n",
       "        vertical-align: middle;\n",
       "    }\n",
       "\n",
       "    .dataframe tbody tr th {\n",
       "        vertical-align: top;\n",
       "    }\n",
       "\n",
       "    .dataframe thead th {\n",
       "        text-align: right;\n",
       "    }\n",
       "</style>\n",
       "<table border=\"1\" class=\"dataframe\">\n",
       "  <thead>\n",
       "    <tr style=\"text-align: right;\">\n",
       "      <th></th>\n",
       "      <th>release_year</th>\n",
       "    </tr>\n",
       "  </thead>\n",
       "  <tbody>\n",
       "    <tr>\n",
       "      <th>count</th>\n",
       "      <td>8807.000000</td>\n",
       "    </tr>\n",
       "    <tr>\n",
       "      <th>mean</th>\n",
       "      <td>2014.180198</td>\n",
       "    </tr>\n",
       "    <tr>\n",
       "      <th>std</th>\n",
       "      <td>8.819312</td>\n",
       "    </tr>\n",
       "    <tr>\n",
       "      <th>min</th>\n",
       "      <td>1925.000000</td>\n",
       "    </tr>\n",
       "    <tr>\n",
       "      <th>25%</th>\n",
       "      <td>2013.000000</td>\n",
       "    </tr>\n",
       "    <tr>\n",
       "      <th>50%</th>\n",
       "      <td>2017.000000</td>\n",
       "    </tr>\n",
       "    <tr>\n",
       "      <th>75%</th>\n",
       "      <td>2019.000000</td>\n",
       "    </tr>\n",
       "    <tr>\n",
       "      <th>max</th>\n",
       "      <td>2021.000000</td>\n",
       "    </tr>\n",
       "  </tbody>\n",
       "</table>\n",
       "</div>"
      ],
      "text/plain": [
       "       release_year\n",
       "count   8807.000000\n",
       "mean    2014.180198\n",
       "std        8.819312\n",
       "min     1925.000000\n",
       "25%     2013.000000\n",
       "50%     2017.000000\n",
       "75%     2019.000000\n",
       "max     2021.000000"
      ]
     },
     "execution_count": 5,
     "metadata": {},
     "output_type": "execute_result"
    }
   ],
   "source": [
    "df.describe() #basic stats like mean, count, etc. (only int and float, not strings/objects)"
   ]
  },
  {
   "cell_type": "code",
   "execution_count": 6,
   "id": "810009d8-de3f-4015-96b0-54c793da16cd",
   "metadata": {},
   "outputs": [
    {
     "name": "stdout",
     "output_type": "stream",
     "text": [
      "<class 'pandas.core.frame.DataFrame'>\n",
      "RangeIndex: 8807 entries, 0 to 8806\n",
      "Data columns (total 12 columns):\n",
      " #   Column        Non-Null Count  Dtype \n",
      "---  ------        --------------  ----- \n",
      " 0   show_id       8807 non-null   object\n",
      " 1   type          8807 non-null   object\n",
      " 2   title         8807 non-null   object\n",
      " 3   director      6173 non-null   object\n",
      " 4   cast          7982 non-null   object\n",
      " 5   country       7976 non-null   object\n",
      " 6   date_added    8797 non-null   object\n",
      " 7   release_year  8807 non-null   int64 \n",
      " 8   rating        8803 non-null   object\n",
      " 9   duration      8804 non-null   object\n",
      " 10  listed_in     8807 non-null   object\n",
      " 11  description   8807 non-null   object\n",
      "dtypes: int64(1), object(11)\n",
      "memory usage: 825.8+ KB\n"
     ]
    }
   ],
   "source": [
    "df.info() # count and data type of columns"
   ]
  },
  {
   "cell_type": "markdown",
   "id": "ff4bf9d3-313e-453a-815d-e9fb82a258bd",
   "metadata": {},
   "source": [
    "Missing Values"
   ]
  },
  {
   "cell_type": "code",
   "execution_count": 7,
   "id": "38bfa1e3-55b8-4259-acfc-b51742b40cb3",
   "metadata": {},
   "outputs": [
    {
     "data": {
      "text/html": [
       "<div>\n",
       "<style scoped>\n",
       "    .dataframe tbody tr th:only-of-type {\n",
       "        vertical-align: middle;\n",
       "    }\n",
       "\n",
       "    .dataframe tbody tr th {\n",
       "        vertical-align: top;\n",
       "    }\n",
       "\n",
       "    .dataframe thead th {\n",
       "        text-align: right;\n",
       "    }\n",
       "</style>\n",
       "<table border=\"1\" class=\"dataframe\">\n",
       "  <thead>\n",
       "    <tr style=\"text-align: right;\">\n",
       "      <th></th>\n",
       "      <th>show_id</th>\n",
       "      <th>type</th>\n",
       "      <th>title</th>\n",
       "      <th>director</th>\n",
       "      <th>cast</th>\n",
       "      <th>country</th>\n",
       "      <th>date_added</th>\n",
       "      <th>release_year</th>\n",
       "      <th>rating</th>\n",
       "      <th>duration</th>\n",
       "      <th>listed_in</th>\n",
       "      <th>description</th>\n",
       "    </tr>\n",
       "  </thead>\n",
       "  <tbody>\n",
       "    <tr>\n",
       "      <th>0</th>\n",
       "      <td>False</td>\n",
       "      <td>False</td>\n",
       "      <td>False</td>\n",
       "      <td>False</td>\n",
       "      <td>True</td>\n",
       "      <td>False</td>\n",
       "      <td>False</td>\n",
       "      <td>False</td>\n",
       "      <td>False</td>\n",
       "      <td>False</td>\n",
       "      <td>False</td>\n",
       "      <td>False</td>\n",
       "    </tr>\n",
       "    <tr>\n",
       "      <th>1</th>\n",
       "      <td>False</td>\n",
       "      <td>False</td>\n",
       "      <td>False</td>\n",
       "      <td>True</td>\n",
       "      <td>False</td>\n",
       "      <td>False</td>\n",
       "      <td>False</td>\n",
       "      <td>False</td>\n",
       "      <td>False</td>\n",
       "      <td>False</td>\n",
       "      <td>False</td>\n",
       "      <td>False</td>\n",
       "    </tr>\n",
       "    <tr>\n",
       "      <th>2</th>\n",
       "      <td>False</td>\n",
       "      <td>False</td>\n",
       "      <td>False</td>\n",
       "      <td>False</td>\n",
       "      <td>False</td>\n",
       "      <td>True</td>\n",
       "      <td>False</td>\n",
       "      <td>False</td>\n",
       "      <td>False</td>\n",
       "      <td>False</td>\n",
       "      <td>False</td>\n",
       "      <td>False</td>\n",
       "    </tr>\n",
       "    <tr>\n",
       "      <th>3</th>\n",
       "      <td>False</td>\n",
       "      <td>False</td>\n",
       "      <td>False</td>\n",
       "      <td>True</td>\n",
       "      <td>True</td>\n",
       "      <td>True</td>\n",
       "      <td>False</td>\n",
       "      <td>False</td>\n",
       "      <td>False</td>\n",
       "      <td>False</td>\n",
       "      <td>False</td>\n",
       "      <td>False</td>\n",
       "    </tr>\n",
       "    <tr>\n",
       "      <th>4</th>\n",
       "      <td>False</td>\n",
       "      <td>False</td>\n",
       "      <td>False</td>\n",
       "      <td>True</td>\n",
       "      <td>False</td>\n",
       "      <td>False</td>\n",
       "      <td>False</td>\n",
       "      <td>False</td>\n",
       "      <td>False</td>\n",
       "      <td>False</td>\n",
       "      <td>False</td>\n",
       "      <td>False</td>\n",
       "    </tr>\n",
       "    <tr>\n",
       "      <th>...</th>\n",
       "      <td>...</td>\n",
       "      <td>...</td>\n",
       "      <td>...</td>\n",
       "      <td>...</td>\n",
       "      <td>...</td>\n",
       "      <td>...</td>\n",
       "      <td>...</td>\n",
       "      <td>...</td>\n",
       "      <td>...</td>\n",
       "      <td>...</td>\n",
       "      <td>...</td>\n",
       "      <td>...</td>\n",
       "    </tr>\n",
       "    <tr>\n",
       "      <th>8802</th>\n",
       "      <td>False</td>\n",
       "      <td>False</td>\n",
       "      <td>False</td>\n",
       "      <td>False</td>\n",
       "      <td>False</td>\n",
       "      <td>False</td>\n",
       "      <td>False</td>\n",
       "      <td>False</td>\n",
       "      <td>False</td>\n",
       "      <td>False</td>\n",
       "      <td>False</td>\n",
       "      <td>False</td>\n",
       "    </tr>\n",
       "    <tr>\n",
       "      <th>8803</th>\n",
       "      <td>False</td>\n",
       "      <td>False</td>\n",
       "      <td>False</td>\n",
       "      <td>True</td>\n",
       "      <td>True</td>\n",
       "      <td>True</td>\n",
       "      <td>False</td>\n",
       "      <td>False</td>\n",
       "      <td>False</td>\n",
       "      <td>False</td>\n",
       "      <td>False</td>\n",
       "      <td>False</td>\n",
       "    </tr>\n",
       "    <tr>\n",
       "      <th>8804</th>\n",
       "      <td>False</td>\n",
       "      <td>False</td>\n",
       "      <td>False</td>\n",
       "      <td>False</td>\n",
       "      <td>False</td>\n",
       "      <td>False</td>\n",
       "      <td>False</td>\n",
       "      <td>False</td>\n",
       "      <td>False</td>\n",
       "      <td>False</td>\n",
       "      <td>False</td>\n",
       "      <td>False</td>\n",
       "    </tr>\n",
       "    <tr>\n",
       "      <th>8805</th>\n",
       "      <td>False</td>\n",
       "      <td>False</td>\n",
       "      <td>False</td>\n",
       "      <td>False</td>\n",
       "      <td>False</td>\n",
       "      <td>False</td>\n",
       "      <td>False</td>\n",
       "      <td>False</td>\n",
       "      <td>False</td>\n",
       "      <td>False</td>\n",
       "      <td>False</td>\n",
       "      <td>False</td>\n",
       "    </tr>\n",
       "    <tr>\n",
       "      <th>8806</th>\n",
       "      <td>False</td>\n",
       "      <td>False</td>\n",
       "      <td>False</td>\n",
       "      <td>False</td>\n",
       "      <td>False</td>\n",
       "      <td>False</td>\n",
       "      <td>False</td>\n",
       "      <td>False</td>\n",
       "      <td>False</td>\n",
       "      <td>False</td>\n",
       "      <td>False</td>\n",
       "      <td>False</td>\n",
       "    </tr>\n",
       "  </tbody>\n",
       "</table>\n",
       "<p>8807 rows × 12 columns</p>\n",
       "</div>"
      ],
      "text/plain": [
       "      show_id   type  title  director   cast  country  date_added  \\\n",
       "0       False  False  False     False   True    False       False   \n",
       "1       False  False  False      True  False    False       False   \n",
       "2       False  False  False     False  False     True       False   \n",
       "3       False  False  False      True   True     True       False   \n",
       "4       False  False  False      True  False    False       False   \n",
       "...       ...    ...    ...       ...    ...      ...         ...   \n",
       "8802    False  False  False     False  False    False       False   \n",
       "8803    False  False  False      True   True     True       False   \n",
       "8804    False  False  False     False  False    False       False   \n",
       "8805    False  False  False     False  False    False       False   \n",
       "8806    False  False  False     False  False    False       False   \n",
       "\n",
       "      release_year  rating  duration  listed_in  description  \n",
       "0            False   False     False      False        False  \n",
       "1            False   False     False      False        False  \n",
       "2            False   False     False      False        False  \n",
       "3            False   False     False      False        False  \n",
       "4            False   False     False      False        False  \n",
       "...            ...     ...       ...        ...          ...  \n",
       "8802         False   False     False      False        False  \n",
       "8803         False   False     False      False        False  \n",
       "8804         False   False     False      False        False  \n",
       "8805         False   False     False      False        False  \n",
       "8806         False   False     False      False        False  \n",
       "\n",
       "[8807 rows x 12 columns]"
      ]
     },
     "execution_count": 7,
     "metadata": {},
     "output_type": "execute_result"
    }
   ],
   "source": [
    "df.isna() #is null? --> True or False"
   ]
  },
  {
   "cell_type": "code",
   "execution_count": 8,
   "id": "0d32359c-1d01-461d-8a67-0dc6d23dc4aa",
   "metadata": {},
   "outputs": [
    {
     "data": {
      "text/plain": [
       "show_id            0\n",
       "type               0\n",
       "title              0\n",
       "director        2634\n",
       "cast             825\n",
       "country          831\n",
       "date_added        10\n",
       "release_year       0\n",
       "rating             4\n",
       "duration           3\n",
       "listed_in          0\n",
       "description        0\n",
       "dtype: int64"
      ]
     },
     "execution_count": 8,
     "metadata": {},
     "output_type": "execute_result"
    }
   ],
   "source": [
    "df.isna().sum() #sum of null values in the dataset"
   ]
  },
  {
   "cell_type": "markdown",
   "id": "deba871d-ecae-484e-bd2c-e06c26984478",
   "metadata": {},
   "source": [
    "# Adjust the data types and fill in missing values\n",
    "## The following do not require any fills:\n",
    "- type\n",
    "- title\n",
    "- release_year\n",
    "- listed_in\n",
    "- description\n",
    "\n",
    "## The following are missing data:\n",
    "- director\n",
    "- cast\n",
    "- country\n",
    "- date_added\n",
    "- rating\n",
    "- duration\n",
    "- [Check data types, update types where needed and proceed]\n",
    "\n",
    "date_added to be updated to datetime. 'Unavailable' will be substituted in for any nulls of fields with ovject/string data types. This applies to everything except for release_year."
   ]
  },
  {
   "cell_type": "code",
   "execution_count": 10,
   "id": "1c3e22bf-09ef-4e83-b5f8-65af0fdb27b2",
   "metadata": {},
   "outputs": [],
   "source": [
    "df['date_added'] = df['date_added'].str.strip() #Before converting, clean the column by removing any leading or trailing spaces\n",
    "df['date_added'] = pd.to_datetime(df['date_added'])"
   ]
  },
  {
   "cell_type": "code",
   "execution_count": 11,
   "id": "fe828c52-bd18-451c-a2c6-dd041cf1c069",
   "metadata": {},
   "outputs": [
    {
     "data": {
      "text/html": [
       "<div>\n",
       "<style scoped>\n",
       "    .dataframe tbody tr th:only-of-type {\n",
       "        vertical-align: middle;\n",
       "    }\n",
       "\n",
       "    .dataframe tbody tr th {\n",
       "        vertical-align: top;\n",
       "    }\n",
       "\n",
       "    .dataframe thead th {\n",
       "        text-align: right;\n",
       "    }\n",
       "</style>\n",
       "<table border=\"1\" class=\"dataframe\">\n",
       "  <thead>\n",
       "    <tr style=\"text-align: right;\">\n",
       "      <th></th>\n",
       "      <th>show_id</th>\n",
       "      <th>type</th>\n",
       "      <th>title</th>\n",
       "      <th>director</th>\n",
       "      <th>cast</th>\n",
       "      <th>country</th>\n",
       "      <th>date_added</th>\n",
       "      <th>release_year</th>\n",
       "      <th>rating</th>\n",
       "      <th>duration</th>\n",
       "      <th>listed_in</th>\n",
       "      <th>description</th>\n",
       "    </tr>\n",
       "  </thead>\n",
       "  <tbody>\n",
       "    <tr>\n",
       "      <th>0</th>\n",
       "      <td>s1</td>\n",
       "      <td>Movie</td>\n",
       "      <td>Dick Johnson Is Dead</td>\n",
       "      <td>Kirsten Johnson</td>\n",
       "      <td>NaN</td>\n",
       "      <td>United States</td>\n",
       "      <td>2021-09-25</td>\n",
       "      <td>2020</td>\n",
       "      <td>PG-13</td>\n",
       "      <td>90 min</td>\n",
       "      <td>Documentaries</td>\n",
       "      <td>As her father nears the end of his life, filmm...</td>\n",
       "    </tr>\n",
       "    <tr>\n",
       "      <th>1</th>\n",
       "      <td>s2</td>\n",
       "      <td>TV Show</td>\n",
       "      <td>Blood &amp; Water</td>\n",
       "      <td>NaN</td>\n",
       "      <td>Ama Qamata, Khosi Ngema, Gail Mabalane, Thaban...</td>\n",
       "      <td>South Africa</td>\n",
       "      <td>2021-09-24</td>\n",
       "      <td>2021</td>\n",
       "      <td>TV-MA</td>\n",
       "      <td>2 Seasons</td>\n",
       "      <td>International TV Shows, TV Dramas, TV Mysteries</td>\n",
       "      <td>After crossing paths at a party, a Cape Town t...</td>\n",
       "    </tr>\n",
       "    <tr>\n",
       "      <th>2</th>\n",
       "      <td>s3</td>\n",
       "      <td>TV Show</td>\n",
       "      <td>Ganglands</td>\n",
       "      <td>Julien Leclercq</td>\n",
       "      <td>Sami Bouajila, Tracy Gotoas, Samuel Jouy, Nabi...</td>\n",
       "      <td>NaN</td>\n",
       "      <td>2021-09-24</td>\n",
       "      <td>2021</td>\n",
       "      <td>TV-MA</td>\n",
       "      <td>1 Season</td>\n",
       "      <td>Crime TV Shows, International TV Shows, TV Act...</td>\n",
       "      <td>To protect his family from a powerful drug lor...</td>\n",
       "    </tr>\n",
       "    <tr>\n",
       "      <th>3</th>\n",
       "      <td>s4</td>\n",
       "      <td>TV Show</td>\n",
       "      <td>Jailbirds New Orleans</td>\n",
       "      <td>NaN</td>\n",
       "      <td>NaN</td>\n",
       "      <td>NaN</td>\n",
       "      <td>2021-09-24</td>\n",
       "      <td>2021</td>\n",
       "      <td>TV-MA</td>\n",
       "      <td>1 Season</td>\n",
       "      <td>Docuseries, Reality TV</td>\n",
       "      <td>Feuds, flirtations and toilet talk go down amo...</td>\n",
       "    </tr>\n",
       "    <tr>\n",
       "      <th>4</th>\n",
       "      <td>s5</td>\n",
       "      <td>TV Show</td>\n",
       "      <td>Kota Factory</td>\n",
       "      <td>NaN</td>\n",
       "      <td>Mayur More, Jitendra Kumar, Ranjan Raj, Alam K...</td>\n",
       "      <td>India</td>\n",
       "      <td>2021-09-24</td>\n",
       "      <td>2021</td>\n",
       "      <td>TV-MA</td>\n",
       "      <td>2 Seasons</td>\n",
       "      <td>International TV Shows, Romantic TV Shows, TV ...</td>\n",
       "      <td>In a city of coaching centers known to train I...</td>\n",
       "    </tr>\n",
       "  </tbody>\n",
       "</table>\n",
       "</div>"
      ],
      "text/plain": [
       "  show_id     type                  title         director  \\\n",
       "0      s1    Movie   Dick Johnson Is Dead  Kirsten Johnson   \n",
       "1      s2  TV Show          Blood & Water              NaN   \n",
       "2      s3  TV Show              Ganglands  Julien Leclercq   \n",
       "3      s4  TV Show  Jailbirds New Orleans              NaN   \n",
       "4      s5  TV Show           Kota Factory              NaN   \n",
       "\n",
       "                                                cast        country  \\\n",
       "0                                                NaN  United States   \n",
       "1  Ama Qamata, Khosi Ngema, Gail Mabalane, Thaban...   South Africa   \n",
       "2  Sami Bouajila, Tracy Gotoas, Samuel Jouy, Nabi...            NaN   \n",
       "3                                                NaN            NaN   \n",
       "4  Mayur More, Jitendra Kumar, Ranjan Raj, Alam K...          India   \n",
       "\n",
       "  date_added  release_year rating   duration  \\\n",
       "0 2021-09-25          2020  PG-13     90 min   \n",
       "1 2021-09-24          2021  TV-MA  2 Seasons   \n",
       "2 2021-09-24          2021  TV-MA   1 Season   \n",
       "3 2021-09-24          2021  TV-MA   1 Season   \n",
       "4 2021-09-24          2021  TV-MA  2 Seasons   \n",
       "\n",
       "                                           listed_in  \\\n",
       "0                                      Documentaries   \n",
       "1    International TV Shows, TV Dramas, TV Mysteries   \n",
       "2  Crime TV Shows, International TV Shows, TV Act...   \n",
       "3                             Docuseries, Reality TV   \n",
       "4  International TV Shows, Romantic TV Shows, TV ...   \n",
       "\n",
       "                                         description  \n",
       "0  As her father nears the end of his life, filmm...  \n",
       "1  After crossing paths at a party, a Cape Town t...  \n",
       "2  To protect his family from a powerful drug lor...  \n",
       "3  Feuds, flirtations and toilet talk go down amo...  \n",
       "4  In a city of coaching centers known to train I...  "
      ]
     },
     "execution_count": 11,
     "metadata": {},
     "output_type": "execute_result"
    }
   ],
   "source": [
    "df.head()"
   ]
  },
  {
   "cell_type": "markdown",
   "id": "9ce4a9e0-a5ff-4747-9e0d-ebfb5863cb67",
   "metadata": {},
   "source": [
    "# Handling missing values\n",
    "(rating, cast, country, and director)'s null fields to be replaced with 'Unavailable'"
   ]
  },
  {
   "cell_type": "code",
   "execution_count": 13,
   "id": "cbdc754c-b0ca-4e26-a8df-2ece8ebea2d6",
   "metadata": {},
   "outputs": [
    {
     "data": {
      "text/plain": [
       "show_id          0\n",
       "type             0\n",
       "title            0\n",
       "director         0\n",
       "cast             0\n",
       "country          0\n",
       "date_added      10\n",
       "release_year     0\n",
       "rating           0\n",
       "duration         3\n",
       "listed_in        0\n",
       "description      0\n",
       "dtype: int64"
      ]
     },
     "execution_count": 13,
     "metadata": {},
     "output_type": "execute_result"
    }
   ],
   "source": [
    "df.fillna({'rating': 'Unavailable', 'country': 'Unavailable', 'cast': 'Unavailable', 'director': 'Unavailable'}, inplace = True)\n",
    "df.isna().sum()"
   ]
  },
  {
   "cell_type": "markdown",
   "id": "743afede-06f6-4fe8-93a0-50b17d3ce8e7",
   "metadata": {},
   "source": [
    "For missing values in the date_added column, we will replace them with the most recent available date. This approach is based on Netflix’s tendency to add new content over time. Alternatively, we could manually input the correct dates if available or remove these entries from the dataset, as the amount of missing data is relatively small."
   ]
  },
  {
   "cell_type": "code",
   "execution_count": 14,
   "id": "bb5d33a9-9c14-4c74-89cd-353154befa25",
   "metadata": {},
   "outputs": [
    {
     "data": {
      "text/html": [
       "<div>\n",
       "<style scoped>\n",
       "    .dataframe tbody tr th:only-of-type {\n",
       "        vertical-align: middle;\n",
       "    }\n",
       "\n",
       "    .dataframe tbody tr th {\n",
       "        vertical-align: top;\n",
       "    }\n",
       "\n",
       "    .dataframe thead th {\n",
       "        text-align: right;\n",
       "    }\n",
       "</style>\n",
       "<table border=\"1\" class=\"dataframe\">\n",
       "  <thead>\n",
       "    <tr style=\"text-align: right;\">\n",
       "      <th></th>\n",
       "      <th>show_id</th>\n",
       "      <th>type</th>\n",
       "      <th>title</th>\n",
       "      <th>director</th>\n",
       "      <th>cast</th>\n",
       "      <th>country</th>\n",
       "      <th>date_added</th>\n",
       "      <th>release_year</th>\n",
       "      <th>rating</th>\n",
       "      <th>duration</th>\n",
       "      <th>listed_in</th>\n",
       "      <th>description</th>\n",
       "    </tr>\n",
       "  </thead>\n",
       "  <tbody>\n",
       "    <tr>\n",
       "      <th>6066</th>\n",
       "      <td>s6067</td>\n",
       "      <td>TV Show</td>\n",
       "      <td>A Young Doctor's Notebook and Other Stories</td>\n",
       "      <td>Unavailable</td>\n",
       "      <td>Daniel Radcliffe, Jon Hamm, Adam Godley, Chris...</td>\n",
       "      <td>United Kingdom</td>\n",
       "      <td>NaT</td>\n",
       "      <td>2013</td>\n",
       "      <td>TV-MA</td>\n",
       "      <td>2 Seasons</td>\n",
       "      <td>British TV Shows, TV Comedies, TV Dramas</td>\n",
       "      <td>Set during the Russian Revolution, this comic ...</td>\n",
       "    </tr>\n",
       "    <tr>\n",
       "      <th>6174</th>\n",
       "      <td>s6175</td>\n",
       "      <td>TV Show</td>\n",
       "      <td>Anthony Bourdain: Parts Unknown</td>\n",
       "      <td>Unavailable</td>\n",
       "      <td>Anthony Bourdain</td>\n",
       "      <td>United States</td>\n",
       "      <td>NaT</td>\n",
       "      <td>2018</td>\n",
       "      <td>TV-PG</td>\n",
       "      <td>5 Seasons</td>\n",
       "      <td>Docuseries</td>\n",
       "      <td>This CNN original series has chef Anthony Bour...</td>\n",
       "    </tr>\n",
       "    <tr>\n",
       "      <th>6795</th>\n",
       "      <td>s6796</td>\n",
       "      <td>TV Show</td>\n",
       "      <td>Frasier</td>\n",
       "      <td>Unavailable</td>\n",
       "      <td>Kelsey Grammer, Jane Leeves, David Hyde Pierce...</td>\n",
       "      <td>United States</td>\n",
       "      <td>NaT</td>\n",
       "      <td>2003</td>\n",
       "      <td>TV-PG</td>\n",
       "      <td>11 Seasons</td>\n",
       "      <td>Classic &amp; Cult TV, TV Comedies</td>\n",
       "      <td>Frasier Crane is a snooty but lovable Seattle ...</td>\n",
       "    </tr>\n",
       "    <tr>\n",
       "      <th>6806</th>\n",
       "      <td>s6807</td>\n",
       "      <td>TV Show</td>\n",
       "      <td>Friends</td>\n",
       "      <td>Unavailable</td>\n",
       "      <td>Jennifer Aniston, Courteney Cox, Lisa Kudrow, ...</td>\n",
       "      <td>United States</td>\n",
       "      <td>NaT</td>\n",
       "      <td>2003</td>\n",
       "      <td>TV-14</td>\n",
       "      <td>10 Seasons</td>\n",
       "      <td>Classic &amp; Cult TV, TV Comedies</td>\n",
       "      <td>This hit sitcom follows the merry misadventure...</td>\n",
       "    </tr>\n",
       "    <tr>\n",
       "      <th>6901</th>\n",
       "      <td>s6902</td>\n",
       "      <td>TV Show</td>\n",
       "      <td>Gunslinger Girl</td>\n",
       "      <td>Unavailable</td>\n",
       "      <td>Yuuka Nanri, Kanako Mitsuhashi, Eri Sendai, Am...</td>\n",
       "      <td>Japan</td>\n",
       "      <td>NaT</td>\n",
       "      <td>2008</td>\n",
       "      <td>TV-14</td>\n",
       "      <td>2 Seasons</td>\n",
       "      <td>Anime Series, Crime TV Shows</td>\n",
       "      <td>On the surface, the Social Welfare Agency appe...</td>\n",
       "    </tr>\n",
       "    <tr>\n",
       "      <th>7196</th>\n",
       "      <td>s7197</td>\n",
       "      <td>TV Show</td>\n",
       "      <td>Kikoriki</td>\n",
       "      <td>Unavailable</td>\n",
       "      <td>Igor Dmitriev</td>\n",
       "      <td>Unavailable</td>\n",
       "      <td>NaT</td>\n",
       "      <td>2010</td>\n",
       "      <td>TV-Y</td>\n",
       "      <td>2 Seasons</td>\n",
       "      <td>Kids' TV</td>\n",
       "      <td>A wacky rabbit and his gang of animal pals hav...</td>\n",
       "    </tr>\n",
       "    <tr>\n",
       "      <th>7254</th>\n",
       "      <td>s7255</td>\n",
       "      <td>TV Show</td>\n",
       "      <td>La Familia P. Luche</td>\n",
       "      <td>Unavailable</td>\n",
       "      <td>Eugenio Derbez, Consuelo Duval, Luis Manuel Áv...</td>\n",
       "      <td>United States</td>\n",
       "      <td>NaT</td>\n",
       "      <td>2012</td>\n",
       "      <td>TV-14</td>\n",
       "      <td>3 Seasons</td>\n",
       "      <td>International TV Shows, Spanish-Language TV Sh...</td>\n",
       "      <td>This irreverent sitcom featues Ludovico, Feder...</td>\n",
       "    </tr>\n",
       "    <tr>\n",
       "      <th>7406</th>\n",
       "      <td>s7407</td>\n",
       "      <td>TV Show</td>\n",
       "      <td>Maron</td>\n",
       "      <td>Unavailable</td>\n",
       "      <td>Marc Maron, Judd Hirsch, Josh Brener, Nora Zeh...</td>\n",
       "      <td>United States</td>\n",
       "      <td>NaT</td>\n",
       "      <td>2016</td>\n",
       "      <td>TV-MA</td>\n",
       "      <td>4 Seasons</td>\n",
       "      <td>TV Comedies</td>\n",
       "      <td>Marc Maron stars as Marc Maron, who interviews...</td>\n",
       "    </tr>\n",
       "    <tr>\n",
       "      <th>7847</th>\n",
       "      <td>s7848</td>\n",
       "      <td>TV Show</td>\n",
       "      <td>Red vs. Blue</td>\n",
       "      <td>Unavailable</td>\n",
       "      <td>Burnie Burns, Jason Saldaña, Gustavo Sorola, G...</td>\n",
       "      <td>United States</td>\n",
       "      <td>NaT</td>\n",
       "      <td>2015</td>\n",
       "      <td>NR</td>\n",
       "      <td>13 Seasons</td>\n",
       "      <td>TV Action &amp; Adventure, TV Comedies, TV Sci-Fi ...</td>\n",
       "      <td>This parody of first-person shooter games, mil...</td>\n",
       "    </tr>\n",
       "    <tr>\n",
       "      <th>8182</th>\n",
       "      <td>s8183</td>\n",
       "      <td>TV Show</td>\n",
       "      <td>The Adventures of Figaro Pho</td>\n",
       "      <td>Unavailable</td>\n",
       "      <td>Luke Jurevicius, Craig Behenna, Charlotte Haml...</td>\n",
       "      <td>Australia</td>\n",
       "      <td>NaT</td>\n",
       "      <td>2015</td>\n",
       "      <td>TV-Y7</td>\n",
       "      <td>2 Seasons</td>\n",
       "      <td>Kids' TV, TV Comedies</td>\n",
       "      <td>Imagine your worst fears, then multiply them: ...</td>\n",
       "    </tr>\n",
       "  </tbody>\n",
       "</table>\n",
       "</div>"
      ],
      "text/plain": [
       "     show_id     type                                        title  \\\n",
       "6066   s6067  TV Show  A Young Doctor's Notebook and Other Stories   \n",
       "6174   s6175  TV Show              Anthony Bourdain: Parts Unknown   \n",
       "6795   s6796  TV Show                                      Frasier   \n",
       "6806   s6807  TV Show                                      Friends   \n",
       "6901   s6902  TV Show                              Gunslinger Girl   \n",
       "7196   s7197  TV Show                                     Kikoriki   \n",
       "7254   s7255  TV Show                          La Familia P. Luche   \n",
       "7406   s7407  TV Show                                        Maron   \n",
       "7847   s7848  TV Show                                 Red vs. Blue   \n",
       "8182   s8183  TV Show                 The Adventures of Figaro Pho   \n",
       "\n",
       "         director                                               cast  \\\n",
       "6066  Unavailable  Daniel Radcliffe, Jon Hamm, Adam Godley, Chris...   \n",
       "6174  Unavailable                                   Anthony Bourdain   \n",
       "6795  Unavailable  Kelsey Grammer, Jane Leeves, David Hyde Pierce...   \n",
       "6806  Unavailable  Jennifer Aniston, Courteney Cox, Lisa Kudrow, ...   \n",
       "6901  Unavailable  Yuuka Nanri, Kanako Mitsuhashi, Eri Sendai, Am...   \n",
       "7196  Unavailable                                      Igor Dmitriev   \n",
       "7254  Unavailable  Eugenio Derbez, Consuelo Duval, Luis Manuel Áv...   \n",
       "7406  Unavailable  Marc Maron, Judd Hirsch, Josh Brener, Nora Zeh...   \n",
       "7847  Unavailable  Burnie Burns, Jason Saldaña, Gustavo Sorola, G...   \n",
       "8182  Unavailable  Luke Jurevicius, Craig Behenna, Charlotte Haml...   \n",
       "\n",
       "             country date_added  release_year rating    duration  \\\n",
       "6066  United Kingdom        NaT          2013  TV-MA   2 Seasons   \n",
       "6174   United States        NaT          2018  TV-PG   5 Seasons   \n",
       "6795   United States        NaT          2003  TV-PG  11 Seasons   \n",
       "6806   United States        NaT          2003  TV-14  10 Seasons   \n",
       "6901           Japan        NaT          2008  TV-14   2 Seasons   \n",
       "7196     Unavailable        NaT          2010   TV-Y   2 Seasons   \n",
       "7254   United States        NaT          2012  TV-14   3 Seasons   \n",
       "7406   United States        NaT          2016  TV-MA   4 Seasons   \n",
       "7847   United States        NaT          2015     NR  13 Seasons   \n",
       "8182       Australia        NaT          2015  TV-Y7   2 Seasons   \n",
       "\n",
       "                                              listed_in  \\\n",
       "6066           British TV Shows, TV Comedies, TV Dramas   \n",
       "6174                                         Docuseries   \n",
       "6795                     Classic & Cult TV, TV Comedies   \n",
       "6806                     Classic & Cult TV, TV Comedies   \n",
       "6901                       Anime Series, Crime TV Shows   \n",
       "7196                                           Kids' TV   \n",
       "7254  International TV Shows, Spanish-Language TV Sh...   \n",
       "7406                                        TV Comedies   \n",
       "7847  TV Action & Adventure, TV Comedies, TV Sci-Fi ...   \n",
       "8182                              Kids' TV, TV Comedies   \n",
       "\n",
       "                                            description  \n",
       "6066  Set during the Russian Revolution, this comic ...  \n",
       "6174  This CNN original series has chef Anthony Bour...  \n",
       "6795  Frasier Crane is a snooty but lovable Seattle ...  \n",
       "6806  This hit sitcom follows the merry misadventure...  \n",
       "6901  On the surface, the Social Welfare Agency appe...  \n",
       "7196  A wacky rabbit and his gang of animal pals hav...  \n",
       "7254  This irreverent sitcom featues Ludovico, Feder...  \n",
       "7406  Marc Maron stars as Marc Maron, who interviews...  \n",
       "7847  This parody of first-person shooter games, mil...  \n",
       "8182  Imagine your worst fears, then multiply them: ...  "
      ]
     },
     "execution_count": 14,
     "metadata": {},
     "output_type": "execute_result"
    }
   ],
   "source": [
    "df[df.date_added.isnull()]"
   ]
  },
  {
   "cell_type": "code",
   "execution_count": 15,
   "id": "5f680dc0-cb91-41bf-ba74-c633b2b616c1",
   "metadata": {},
   "outputs": [],
   "source": [
    "most_recent_entry_date = df['date_added'].max()\n",
    "df.fillna({'date_added' : most_recent_entry_date}, inplace = True)"
   ]
  },
  {
   "cell_type": "markdown",
   "id": "7dc6bb15-801a-4463-9d5f-12f40317273e",
   "metadata": {},
   "source": [
    "This serves as proof of concept that the previously missing date_added value for a specific show_id has been successfully filled using the chosen method."
   ]
  },
  {
   "cell_type": "code",
   "execution_count": 17,
   "id": "7ea3f6d7-d607-425e-954a-9144b1c219b7",
   "metadata": {},
   "outputs": [
    {
     "data": {
      "text/html": [
       "<div>\n",
       "<style scoped>\n",
       "    .dataframe tbody tr th:only-of-type {\n",
       "        vertical-align: middle;\n",
       "    }\n",
       "\n",
       "    .dataframe tbody tr th {\n",
       "        vertical-align: top;\n",
       "    }\n",
       "\n",
       "    .dataframe thead th {\n",
       "        text-align: right;\n",
       "    }\n",
       "</style>\n",
       "<table border=\"1\" class=\"dataframe\">\n",
       "  <thead>\n",
       "    <tr style=\"text-align: right;\">\n",
       "      <th></th>\n",
       "      <th>show_id</th>\n",
       "      <th>type</th>\n",
       "      <th>title</th>\n",
       "      <th>director</th>\n",
       "      <th>cast</th>\n",
       "      <th>country</th>\n",
       "      <th>date_added</th>\n",
       "      <th>release_year</th>\n",
       "      <th>rating</th>\n",
       "      <th>duration</th>\n",
       "      <th>listed_in</th>\n",
       "      <th>description</th>\n",
       "    </tr>\n",
       "  </thead>\n",
       "  <tbody>\n",
       "    <tr>\n",
       "      <th>6066</th>\n",
       "      <td>s6067</td>\n",
       "      <td>TV Show</td>\n",
       "      <td>A Young Doctor's Notebook and Other Stories</td>\n",
       "      <td>Unavailable</td>\n",
       "      <td>Daniel Radcliffe, Jon Hamm, Adam Godley, Chris...</td>\n",
       "      <td>United Kingdom</td>\n",
       "      <td>2021-09-25</td>\n",
       "      <td>2013</td>\n",
       "      <td>TV-MA</td>\n",
       "      <td>2 Seasons</td>\n",
       "      <td>British TV Shows, TV Comedies, TV Dramas</td>\n",
       "      <td>Set during the Russian Revolution, this comic ...</td>\n",
       "    </tr>\n",
       "  </tbody>\n",
       "</table>\n",
       "</div>"
      ],
      "text/plain": [
       "     show_id     type                                        title  \\\n",
       "6066   s6067  TV Show  A Young Doctor's Notebook and Other Stories   \n",
       "\n",
       "         director                                               cast  \\\n",
       "6066  Unavailable  Daniel Radcliffe, Jon Hamm, Adam Godley, Chris...   \n",
       "\n",
       "             country date_added  release_year rating   duration  \\\n",
       "6066  United Kingdom 2021-09-25          2013  TV-MA  2 Seasons   \n",
       "\n",
       "                                     listed_in  \\\n",
       "6066  British TV Shows, TV Comedies, TV Dramas   \n",
       "\n",
       "                                            description  \n",
       "6066  Set during the Russian Revolution, this comic ...  "
      ]
     },
     "execution_count": 17,
     "metadata": {},
     "output_type": "execute_result"
    }
   ],
   "source": [
    "df[df.show_id == 's6067']"
   ]
  },
  {
   "cell_type": "markdown",
   "id": "b92ce57a-bc68-4a9f-ba62-069f7d4ae5f3",
   "metadata": {},
   "source": [
    "# Additional Data Cleansing\n",
    "## Durations data input error\n",
    "All missing durations belong to movies by Louis C.K. Typically, we would fill these values with the average movie duration from the dataset. However, in this case, the actual duration appears to have been mistakenly entered in the rating column. A practical solution is to transfer this data to the duration column and set the rating as \"Unavailable,\" aligning it with other missing values."
   ]
  },
  {
   "cell_type": "code",
   "execution_count": 18,
   "id": "67b1f655-d9be-40b0-bae5-0ab2ff31f9c3",
   "metadata": {},
   "outputs": [
    {
     "data": {
      "text/html": [
       "<div>\n",
       "<style scoped>\n",
       "    .dataframe tbody tr th:only-of-type {\n",
       "        vertical-align: middle;\n",
       "    }\n",
       "\n",
       "    .dataframe tbody tr th {\n",
       "        vertical-align: top;\n",
       "    }\n",
       "\n",
       "    .dataframe thead th {\n",
       "        text-align: right;\n",
       "    }\n",
       "</style>\n",
       "<table border=\"1\" class=\"dataframe\">\n",
       "  <thead>\n",
       "    <tr style=\"text-align: right;\">\n",
       "      <th></th>\n",
       "      <th>show_id</th>\n",
       "      <th>type</th>\n",
       "      <th>title</th>\n",
       "      <th>director</th>\n",
       "      <th>cast</th>\n",
       "      <th>country</th>\n",
       "      <th>date_added</th>\n",
       "      <th>release_year</th>\n",
       "      <th>rating</th>\n",
       "      <th>duration</th>\n",
       "      <th>listed_in</th>\n",
       "      <th>description</th>\n",
       "    </tr>\n",
       "  </thead>\n",
       "  <tbody>\n",
       "    <tr>\n",
       "      <th>5541</th>\n",
       "      <td>s5542</td>\n",
       "      <td>Movie</td>\n",
       "      <td>Louis C.K. 2017</td>\n",
       "      <td>Louis C.K.</td>\n",
       "      <td>Louis C.K.</td>\n",
       "      <td>United States</td>\n",
       "      <td>2017-04-04</td>\n",
       "      <td>2017</td>\n",
       "      <td>74 min</td>\n",
       "      <td>NaN</td>\n",
       "      <td>Movies</td>\n",
       "      <td>Louis C.K. muses on religion, eternal love, gi...</td>\n",
       "    </tr>\n",
       "    <tr>\n",
       "      <th>5794</th>\n",
       "      <td>s5795</td>\n",
       "      <td>Movie</td>\n",
       "      <td>Louis C.K.: Hilarious</td>\n",
       "      <td>Louis C.K.</td>\n",
       "      <td>Louis C.K.</td>\n",
       "      <td>United States</td>\n",
       "      <td>2016-09-16</td>\n",
       "      <td>2010</td>\n",
       "      <td>84 min</td>\n",
       "      <td>NaN</td>\n",
       "      <td>Movies</td>\n",
       "      <td>Emmy-winning comedy writer Louis C.K. brings h...</td>\n",
       "    </tr>\n",
       "    <tr>\n",
       "      <th>5813</th>\n",
       "      <td>s5814</td>\n",
       "      <td>Movie</td>\n",
       "      <td>Louis C.K.: Live at the Comedy Store</td>\n",
       "      <td>Louis C.K.</td>\n",
       "      <td>Louis C.K.</td>\n",
       "      <td>United States</td>\n",
       "      <td>2016-08-15</td>\n",
       "      <td>2015</td>\n",
       "      <td>66 min</td>\n",
       "      <td>NaN</td>\n",
       "      <td>Movies</td>\n",
       "      <td>The comic puts his trademark hilarious/thought...</td>\n",
       "    </tr>\n",
       "  </tbody>\n",
       "</table>\n",
       "</div>"
      ],
      "text/plain": [
       "     show_id   type                                 title    director  \\\n",
       "5541   s5542  Movie                       Louis C.K. 2017  Louis C.K.   \n",
       "5794   s5795  Movie                 Louis C.K.: Hilarious  Louis C.K.   \n",
       "5813   s5814  Movie  Louis C.K.: Live at the Comedy Store  Louis C.K.   \n",
       "\n",
       "            cast        country date_added  release_year  rating duration  \\\n",
       "5541  Louis C.K.  United States 2017-04-04          2017  74 min      NaN   \n",
       "5794  Louis C.K.  United States 2016-09-16          2010  84 min      NaN   \n",
       "5813  Louis C.K.  United States 2016-08-15          2015  66 min      NaN   \n",
       "\n",
       "     listed_in                                        description  \n",
       "5541    Movies  Louis C.K. muses on religion, eternal love, gi...  \n",
       "5794    Movies  Emmy-winning comedy writer Louis C.K. brings h...  \n",
       "5813    Movies  The comic puts his trademark hilarious/thought...  "
      ]
     },
     "execution_count": 18,
     "metadata": {},
     "output_type": "execute_result"
    }
   ],
   "source": [
    "df[df.duration.isnull()]"
   ]
  },
  {
   "cell_type": "code",
   "execution_count": 19,
   "id": "ef437081-87f1-4fb6-a3c6-6f3b8c0831bb",
   "metadata": {},
   "outputs": [
    {
     "data": {
      "text/html": [
       "<div>\n",
       "<style scoped>\n",
       "    .dataframe tbody tr th:only-of-type {\n",
       "        vertical-align: middle;\n",
       "    }\n",
       "\n",
       "    .dataframe tbody tr th {\n",
       "        vertical-align: top;\n",
       "    }\n",
       "\n",
       "    .dataframe thead th {\n",
       "        text-align: right;\n",
       "    }\n",
       "</style>\n",
       "<table border=\"1\" class=\"dataframe\">\n",
       "  <thead>\n",
       "    <tr style=\"text-align: right;\">\n",
       "      <th></th>\n",
       "      <th>show_id</th>\n",
       "      <th>type</th>\n",
       "      <th>title</th>\n",
       "      <th>director</th>\n",
       "      <th>cast</th>\n",
       "      <th>country</th>\n",
       "      <th>date_added</th>\n",
       "      <th>release_year</th>\n",
       "      <th>rating</th>\n",
       "      <th>duration</th>\n",
       "      <th>listed_in</th>\n",
       "      <th>description</th>\n",
       "    </tr>\n",
       "  </thead>\n",
       "  <tbody>\n",
       "    <tr>\n",
       "      <th>5541</th>\n",
       "      <td>s5542</td>\n",
       "      <td>Movie</td>\n",
       "      <td>Louis C.K. 2017</td>\n",
       "      <td>Louis C.K.</td>\n",
       "      <td>Louis C.K.</td>\n",
       "      <td>United States</td>\n",
       "      <td>2017-04-04</td>\n",
       "      <td>2017</td>\n",
       "      <td>74 min</td>\n",
       "      <td>NaN</td>\n",
       "      <td>Movies</td>\n",
       "      <td>Louis C.K. muses on religion, eternal love, gi...</td>\n",
       "    </tr>\n",
       "    <tr>\n",
       "      <th>5794</th>\n",
       "      <td>s5795</td>\n",
       "      <td>Movie</td>\n",
       "      <td>Louis C.K.: Hilarious</td>\n",
       "      <td>Louis C.K.</td>\n",
       "      <td>Louis C.K.</td>\n",
       "      <td>United States</td>\n",
       "      <td>2016-09-16</td>\n",
       "      <td>2010</td>\n",
       "      <td>84 min</td>\n",
       "      <td>NaN</td>\n",
       "      <td>Movies</td>\n",
       "      <td>Emmy-winning comedy writer Louis C.K. brings h...</td>\n",
       "    </tr>\n",
       "    <tr>\n",
       "      <th>5813</th>\n",
       "      <td>s5814</td>\n",
       "      <td>Movie</td>\n",
       "      <td>Louis C.K.: Live at the Comedy Store</td>\n",
       "      <td>Louis C.K.</td>\n",
       "      <td>Louis C.K.</td>\n",
       "      <td>United States</td>\n",
       "      <td>2016-08-15</td>\n",
       "      <td>2015</td>\n",
       "      <td>66 min</td>\n",
       "      <td>NaN</td>\n",
       "      <td>Movies</td>\n",
       "      <td>The comic puts his trademark hilarious/thought...</td>\n",
       "    </tr>\n",
       "  </tbody>\n",
       "</table>\n",
       "</div>"
      ],
      "text/plain": [
       "     show_id   type                                 title    director  \\\n",
       "5541   s5542  Movie                       Louis C.K. 2017  Louis C.K.   \n",
       "5794   s5795  Movie                 Louis C.K.: Hilarious  Louis C.K.   \n",
       "5813   s5814  Movie  Louis C.K.: Live at the Comedy Store  Louis C.K.   \n",
       "\n",
       "            cast        country date_added  release_year  rating duration  \\\n",
       "5541  Louis C.K.  United States 2017-04-04          2017  74 min      NaN   \n",
       "5794  Louis C.K.  United States 2016-09-16          2010  84 min      NaN   \n",
       "5813  Louis C.K.  United States 2016-08-15          2015  66 min      NaN   \n",
       "\n",
       "     listed_in                                        description  \n",
       "5541    Movies  Louis C.K. muses on religion, eternal love, gi...  \n",
       "5794    Movies  Emmy-winning comedy writer Louis C.K. brings h...  \n",
       "5813    Movies  The comic puts his trademark hilarious/thought...  "
      ]
     },
     "execution_count": 19,
     "metadata": {},
     "output_type": "execute_result"
    }
   ],
   "source": [
    "df[df.director == 'Louis C.K.'].head()"
   ]
  },
  {
   "cell_type": "markdown",
   "id": "f4fbbcd0-4449-44dd-bac0-2b14dde0d849",
   "metadata": {},
   "source": [
    "Overwrite and Check"
   ]
  },
  {
   "cell_type": "code",
   "execution_count": 20,
   "id": "bf19e5cb-8818-4199-a141-adeb5eace778",
   "metadata": {},
   "outputs": [
    {
     "data": {
      "text/html": [
       "<div>\n",
       "<style scoped>\n",
       "    .dataframe tbody tr th:only-of-type {\n",
       "        vertical-align: middle;\n",
       "    }\n",
       "\n",
       "    .dataframe tbody tr th {\n",
       "        vertical-align: top;\n",
       "    }\n",
       "\n",
       "    .dataframe thead th {\n",
       "        text-align: right;\n",
       "    }\n",
       "</style>\n",
       "<table border=\"1\" class=\"dataframe\">\n",
       "  <thead>\n",
       "    <tr style=\"text-align: right;\">\n",
       "      <th></th>\n",
       "      <th>show_id</th>\n",
       "      <th>type</th>\n",
       "      <th>title</th>\n",
       "      <th>director</th>\n",
       "      <th>cast</th>\n",
       "      <th>country</th>\n",
       "      <th>date_added</th>\n",
       "      <th>release_year</th>\n",
       "      <th>rating</th>\n",
       "      <th>duration</th>\n",
       "      <th>listed_in</th>\n",
       "      <th>description</th>\n",
       "    </tr>\n",
       "  </thead>\n",
       "  <tbody>\n",
       "    <tr>\n",
       "      <th>5541</th>\n",
       "      <td>s5542</td>\n",
       "      <td>Movie</td>\n",
       "      <td>Louis C.K. 2017</td>\n",
       "      <td>Louis C.K.</td>\n",
       "      <td>Louis C.K.</td>\n",
       "      <td>United States</td>\n",
       "      <td>2017-04-04</td>\n",
       "      <td>2017</td>\n",
       "      <td>74 min</td>\n",
       "      <td>74 min</td>\n",
       "      <td>Movies</td>\n",
       "      <td>Louis C.K. muses on religion, eternal love, gi...</td>\n",
       "    </tr>\n",
       "    <tr>\n",
       "      <th>5794</th>\n",
       "      <td>s5795</td>\n",
       "      <td>Movie</td>\n",
       "      <td>Louis C.K.: Hilarious</td>\n",
       "      <td>Louis C.K.</td>\n",
       "      <td>Louis C.K.</td>\n",
       "      <td>United States</td>\n",
       "      <td>2016-09-16</td>\n",
       "      <td>2010</td>\n",
       "      <td>84 min</td>\n",
       "      <td>84 min</td>\n",
       "      <td>Movies</td>\n",
       "      <td>Emmy-winning comedy writer Louis C.K. brings h...</td>\n",
       "    </tr>\n",
       "    <tr>\n",
       "      <th>5813</th>\n",
       "      <td>s5814</td>\n",
       "      <td>Movie</td>\n",
       "      <td>Louis C.K.: Live at the Comedy Store</td>\n",
       "      <td>Louis C.K.</td>\n",
       "      <td>Louis C.K.</td>\n",
       "      <td>United States</td>\n",
       "      <td>2016-08-15</td>\n",
       "      <td>2015</td>\n",
       "      <td>66 min</td>\n",
       "      <td>66 min</td>\n",
       "      <td>Movies</td>\n",
       "      <td>The comic puts his trademark hilarious/thought...</td>\n",
       "    </tr>\n",
       "  </tbody>\n",
       "</table>\n",
       "</div>"
      ],
      "text/plain": [
       "     show_id   type                                 title    director  \\\n",
       "5541   s5542  Movie                       Louis C.K. 2017  Louis C.K.   \n",
       "5794   s5795  Movie                 Louis C.K.: Hilarious  Louis C.K.   \n",
       "5813   s5814  Movie  Louis C.K.: Live at the Comedy Store  Louis C.K.   \n",
       "\n",
       "            cast        country date_added  release_year  rating duration  \\\n",
       "5541  Louis C.K.  United States 2017-04-04          2017  74 min   74 min   \n",
       "5794  Louis C.K.  United States 2016-09-16          2010  84 min   84 min   \n",
       "5813  Louis C.K.  United States 2016-08-15          2015  66 min   66 min   \n",
       "\n",
       "     listed_in                                        description  \n",
       "5541    Movies  Louis C.K. muses on religion, eternal love, gi...  \n",
       "5794    Movies  Emmy-winning comedy writer Louis C.K. brings h...  \n",
       "5813    Movies  The comic puts his trademark hilarious/thought...  "
      ]
     },
     "execution_count": 20,
     "metadata": {},
     "output_type": "execute_result"
    }
   ],
   "source": [
    "df.loc[df['director'] == 'Louis C.K.', 'duration'] = df['rating'] #loc helps in accessing columns by names\n",
    "df[df.director == 'Louis C.K.'].head()"
   ]
  },
  {
   "cell_type": "markdown",
   "id": "16731620-7815-4ed0-908a-a93f09692b9f",
   "metadata": {},
   "source": [
    "Second Overwrite and Check"
   ]
  },
  {
   "cell_type": "code",
   "execution_count": 21,
   "id": "32069686-17b2-492f-a60d-46926df4ff31",
   "metadata": {},
   "outputs": [
    {
     "data": {
      "text/html": [
       "<div>\n",
       "<style scoped>\n",
       "    .dataframe tbody tr th:only-of-type {\n",
       "        vertical-align: middle;\n",
       "    }\n",
       "\n",
       "    .dataframe tbody tr th {\n",
       "        vertical-align: top;\n",
       "    }\n",
       "\n",
       "    .dataframe thead th {\n",
       "        text-align: right;\n",
       "    }\n",
       "</style>\n",
       "<table border=\"1\" class=\"dataframe\">\n",
       "  <thead>\n",
       "    <tr style=\"text-align: right;\">\n",
       "      <th></th>\n",
       "      <th>show_id</th>\n",
       "      <th>type</th>\n",
       "      <th>title</th>\n",
       "      <th>director</th>\n",
       "      <th>cast</th>\n",
       "      <th>country</th>\n",
       "      <th>date_added</th>\n",
       "      <th>release_year</th>\n",
       "      <th>rating</th>\n",
       "      <th>duration</th>\n",
       "      <th>listed_in</th>\n",
       "      <th>description</th>\n",
       "    </tr>\n",
       "  </thead>\n",
       "  <tbody>\n",
       "    <tr>\n",
       "      <th>5541</th>\n",
       "      <td>s5542</td>\n",
       "      <td>Movie</td>\n",
       "      <td>Louis C.K. 2017</td>\n",
       "      <td>Louis C.K.</td>\n",
       "      <td>Louis C.K.</td>\n",
       "      <td>United States</td>\n",
       "      <td>2017-04-04</td>\n",
       "      <td>2017</td>\n",
       "      <td>Unavailable</td>\n",
       "      <td>74 min</td>\n",
       "      <td>Movies</td>\n",
       "      <td>Louis C.K. muses on religion, eternal love, gi...</td>\n",
       "    </tr>\n",
       "    <tr>\n",
       "      <th>5794</th>\n",
       "      <td>s5795</td>\n",
       "      <td>Movie</td>\n",
       "      <td>Louis C.K.: Hilarious</td>\n",
       "      <td>Louis C.K.</td>\n",
       "      <td>Louis C.K.</td>\n",
       "      <td>United States</td>\n",
       "      <td>2016-09-16</td>\n",
       "      <td>2010</td>\n",
       "      <td>Unavailable</td>\n",
       "      <td>84 min</td>\n",
       "      <td>Movies</td>\n",
       "      <td>Emmy-winning comedy writer Louis C.K. brings h...</td>\n",
       "    </tr>\n",
       "    <tr>\n",
       "      <th>5813</th>\n",
       "      <td>s5814</td>\n",
       "      <td>Movie</td>\n",
       "      <td>Louis C.K.: Live at the Comedy Store</td>\n",
       "      <td>Louis C.K.</td>\n",
       "      <td>Louis C.K.</td>\n",
       "      <td>United States</td>\n",
       "      <td>2016-08-15</td>\n",
       "      <td>2015</td>\n",
       "      <td>Unavailable</td>\n",
       "      <td>66 min</td>\n",
       "      <td>Movies</td>\n",
       "      <td>The comic puts his trademark hilarious/thought...</td>\n",
       "    </tr>\n",
       "  </tbody>\n",
       "</table>\n",
       "</div>"
      ],
      "text/plain": [
       "     show_id   type                                 title    director  \\\n",
       "5541   s5542  Movie                       Louis C.K. 2017  Louis C.K.   \n",
       "5794   s5795  Movie                 Louis C.K.: Hilarious  Louis C.K.   \n",
       "5813   s5814  Movie  Louis C.K.: Live at the Comedy Store  Louis C.K.   \n",
       "\n",
       "            cast        country date_added  release_year       rating  \\\n",
       "5541  Louis C.K.  United States 2017-04-04          2017  Unavailable   \n",
       "5794  Louis C.K.  United States 2016-09-16          2010  Unavailable   \n",
       "5813  Louis C.K.  United States 2016-08-15          2015  Unavailable   \n",
       "\n",
       "     duration listed_in                                        description  \n",
       "5541   74 min    Movies  Louis C.K. muses on religion, eternal love, gi...  \n",
       "5794   84 min    Movies  Emmy-winning comedy writer Louis C.K. brings h...  \n",
       "5813   66 min    Movies  The comic puts his trademark hilarious/thought...  "
      ]
     },
     "execution_count": 21,
     "metadata": {},
     "output_type": "execute_result"
    }
   ],
   "source": [
    "df.loc[df['director'] == 'Louis C.K.', 'rating'] = 'Unavailable'\n",
    "df[df.director == 'Louis C.K.'].head()"
   ]
  },
  {
   "cell_type": "markdown",
   "id": "e599a25e-13a7-41c8-abfd-4e54c6b8d749",
   "metadata": {},
   "source": [
    "# Visualizations\n",
    "Let us take a look at the type of shows that Netflix offers"
   ]
  },
  {
   "cell_type": "code",
   "execution_count": 22,
   "id": "f4f89876-359f-49b7-9d64-eb7400280762",
   "metadata": {},
   "outputs": [
    {
     "data": {
      "text/plain": [
       "type\n",
       "Movie      6131\n",
       "TV Show    2676\n",
       "Name: count, dtype: int64"
      ]
     },
     "execution_count": 22,
     "metadata": {},
     "output_type": "execute_result"
    }
   ],
   "source": [
    "df.type.value_counts #value_counts => counts of different categories in a given column"
   ]
  },
  {
   "cell_type": "code",
   "execution_count": 23,
   "id": "8d001478-cdf4-477b-8119-ab3e72d7f22e",
   "metadata": {},
   "outputs": [
    {
     "data": {
      "text/plain": [
       "Text(0.5, 1.0, 'Count vs Type of Shows')"
      ]
     },
     "execution_count": 23,
     "metadata": {},
     "output_type": "execute_result"
    },
    {
     "data": {
      "image/png": "[encoded data removed]",
      "text/plain": [
       "<Figure size 640x480 with 1 Axes>"
      ]
     },
     "metadata": {},
     "output_type": "display_data"
    }
   ],
   "source": [
    "sns.countplot(x = 'type' , data = df) #countplot => plot counts of each category\n",
    "plt.title('Count vs Type of Shows')"
   ]
  },
  {
   "cell_type": "markdown",
   "id": "47dc068b-8145-42ed-8930-790eecd6722a",
   "metadata": {},
   "source": [
    "This observation concludes that there are more number of Movies as compared to tv shows"
   ]
  },
  {
   "cell_type": "markdown",
   "id": "e5bb91e6-dfb8-4ef1-bc73-6058b2fc8338",
   "metadata": {},
   "source": [
    "# Country Analysis"
   ]
  },
  {
   "cell_type": "code",
   "execution_count": 24,
   "id": "78a282a4-644f-4b5e-afe9-3280e3fdb014",
   "metadata": {},
   "outputs": [
    {
     "data": {
      "text/plain": [
       "country\n",
       "United States     2818\n",
       "India              972\n",
       "Unavailable        831\n",
       "United Kingdom     419\n",
       "Japan              245\n",
       "South Korea        199\n",
       "Canada             181\n",
       "Spain              145\n",
       "France             124\n",
       "Mexico             110\n",
       "Name: count, dtype: int64"
      ]
     },
     "execution_count": 24,
     "metadata": {},
     "output_type": "execute_result"
    }
   ],
   "source": [
    "df['country'].value_counts().head(10) "
   ]
  },
  {
   "cell_type": "code",
   "execution_count": 25,
   "id": "d6b76527-fbd2-431c-839b-e6aa6099738c",
   "metadata": {},
   "outputs": [
    {
     "data": {
      "text/plain": [
       "Text(0.5, 1.0, 'Country wise content on Netflix')"
      ]
     },
     "execution_count": 25,
     "metadata": {},
     "output_type": "execute_result"
    },
    {
     "data": {
      "image/png": "[encoded data removed]",
      "text/plain": [
       "<Figure size 1200x600 with 1 Axes>"
      ]
     },
     "metadata": {},
     "output_type": "display_data"
    }
   ],
   "source": [
    "plt.figure(figsize = (12,6))\n",
    "sns.countplot( y = 'country', order = df['country'].value_counts().index[0:10],data = df)\n",
    "plt.title('Country wise content on Netflix')"
   ]
  },
  {
   "cell_type": "code",
   "execution_count": 27,
   "id": "5ef6c7a4-5a34-42c8-b3ac-a99084c28d58",
   "metadata": {},
   "outputs": [],
   "source": [
    "#now checking type of content based on country\n",
    "movie_countries = df[df['type']=='Movie']\n",
    "tv_show_countries = df[df['type'] == 'TV Show']"
   ]
  },
  {
   "cell_type": "code",
   "execution_count": 33,
   "id": "7eab8c8e-46a4-43f7-a331-c2644bbba44e",
   "metadata": {},
   "outputs": [
    {
     "data": {
      "text/plain": [
       "Text(0.5, 1.0, 'Top 10 countries producing TV Shows on Netflix')"
      ]
     },
     "execution_count": 33,
     "metadata": {},
     "output_type": "execute_result"
    },
    {
     "data": {
      "image/png": "[encoded data removed]",
      "text/plain": [
       "<Figure size 1200x600 with 1 Axes>"
      ]
     },
     "metadata": {},
     "output_type": "display_data"
    },
    {
     "data": {
      "image/png": "[encoded data removed]",
      "text/plain": [
       "<Figure size 900x600 with 1 Axes>"
      ]
     },
     "metadata": {},
     "output_type": "display_data"
    }
   ],
   "source": [
    "plt.figure(figsize = (12,6))\n",
    "sns.countplot(y='country' ,order = df['country'].value_counts().index[0:10],data = movie_countries)\n",
    "plt.title('Top 10 countries producing movies on Netflix')\n",
    "\n",
    "\n",
    "\n",
    "plt.figure(figsize = (9,6))\n",
    "sns.countplot(y='country' , order = df['country'].value_counts().index[0:10],data = tv_show_countries)\n",
    "plt.title('Top 10 countries producing TV Shows on Netflix')"
   ]
  },
  {
   "cell_type": "markdown",
   "id": "5d47b416-509d-45eb-81de-46d3624af467",
   "metadata": {},
   "source": [
    "Lets check what are the major ratings given to Netflix shows"
   ]
  },
  {
   "cell_type": "code",
   "execution_count": 32,
   "id": "f5e0c500-c679-42b5-9beb-4b45f1baf6d9",
   "metadata": {},
   "outputs": [
    {
     "data": {
      "text/plain": [
       "rating\n",
       "TV-MA          3207\n",
       "TV-14          2160\n",
       "TV-PG           863\n",
       "R               799\n",
       "PG-13           490\n",
       "TV-Y7           334\n",
       "TV-Y            307\n",
       "PG              287\n",
       "TV-G            220\n",
       "NR               80\n",
       "G                41\n",
       "Unavailable       7\n",
       "TV-Y7-FV          6\n",
       "NC-17             3\n",
       "UR                3\n",
       "Name: count, dtype: int64"
      ]
     },
     "execution_count": 32,
     "metadata": {},
     "output_type": "execute_result"
    }
   ],
   "source": [
    "df.rating.value_counts()"
   ]
  },
  {
   "cell_type": "code",
   "execution_count": 35,
   "id": "ae700bed-26d3-44a2-a662-204a4c9a0661",
   "metadata": {},
   "outputs": [
    {
     "data": {
      "text/plain": [
       "Text(0.5, 1.0, 'Ratings of Shows on Netflix vs Count')"
      ]
     },
     "execution_count": 35,
     "metadata": {},
     "output_type": "execute_result"
    },
    {
     "data": {
      "image/png": "[encoded data removed]",
      "text/plain": [
       "<Figure size 900x600 with 1 Axes>"
      ]
     },
     "metadata": {},
     "output_type": "display_data"
    }
   ],
   "source": [
    "plt.figure(figsize = (9,6))\n",
    "sns.countplot(x='rating' , order = df['rating'].value_counts().index[0:10],data = df)\n",
    "plt.title('Ratings of Shows on Netflix vs Count')"
   ]
  },
  {
   "cell_type": "markdown",
   "id": "700b8a96-f62f-41c9-8946-4bcf3647b6b4",
   "metadata": {},
   "source": [
    "Most of the shows have TV-MA and/or TV-14 ratings"
   ]
  },
  {
   "cell_type": "code",
   "execution_count": 36,
   "id": "af6a076a-bd16-49e7-a452-673b4fc33283",
   "metadata": {},
   "outputs": [
    {
     "data": {
      "text/plain": [
       "release_year\n",
       "2018    1147\n",
       "2017    1032\n",
       "2019    1030\n",
       "2020     953\n",
       "2016     902\n",
       "2021     592\n",
       "2015     560\n",
       "2014     352\n",
       "2013     288\n",
       "2012     237\n",
       "2010     194\n",
       "2011     185\n",
       "2009     152\n",
       "2008     136\n",
       "2006      96\n",
       "2007      88\n",
       "2005      80\n",
       "2004      64\n",
       "2003      61\n",
       "2002      51\n",
       "Name: count, dtype: int64"
      ]
     },
     "execution_count": 36,
     "metadata": {},
     "output_type": "execute_result"
    }
   ],
   "source": [
    "df.release_year.value_counts()[:20]"
   ]
  },
  {
   "cell_type": "code",
   "execution_count": 39,
   "id": "81bcec5b-81ab-4213-8326-bbcb9e5c99e9",
   "metadata": {},
   "outputs": [
    {
     "data": {
      "text/plain": [
       "Text(0.5, 1.0, 'Volume of Content Releases on Netflix (Top 20 Years)')"
      ]
     },
     "execution_count": 39,
     "metadata": {},
     "output_type": "execute_result"
    },
    {
     "data": {
      "image/png": "[encoded data removed]",
      "text/plain": [
       "<Figure size 1000x600 with 1 Axes>"
      ]
     },
     "metadata": {},
     "output_type": "display_data"
    }
   ],
   "source": [
    "plt.figure(figsize = (10,6))\n",
    "sns.countplot(x='release_year', order = df['release_year'].value_counts().index[0:20],data=df)\n",
    "plt.title('Volume of Content Releases on Netflix (Top 20 Years)')"
   ]
  },
  {
   "cell_type": "markdown",
   "id": "25a5c4ef-5e02-4025-bb5c-2d2aa66f15dc",
   "metadata": {},
   "source": [
    "# Popular Genre Analysis"
   ]
  },
  {
   "cell_type": "code",
   "execution_count": 40,
   "id": "d103a5cb-3706-4b86-8b14-d5dcb1272c14",
   "metadata": {},
   "outputs": [
    {
     "data": {
      "text/plain": [
       "Text(0.5, 1.0, 'Top 20 genres on Netflix')"
      ]
     },
     "execution_count": 40,
     "metadata": {},
     "output_type": "execute_result"
    },
    {
     "data": {
      "image/png": "[encoded data removed]",
      "text/plain": [
       "<Figure size 1200x800 with 1 Axes>"
      ]
     },
     "metadata": {},
     "output_type": "display_data"
    }
   ],
   "source": [
    "plt.figure(figsize = (12,8))\n",
    "sns.countplot(y='listed_in' , order = df['listed_in'].value_counts().index[0:20],data=df)\n",
    "plt.title('Top 20 genres on Netflix')"
   ]
  },
  {
   "cell_type": "markdown",
   "id": "54688c6e-9cb9-4aa4-a65d-1eb6481eaeb9",
   "metadata": {},
   "source": [
    "# Conclusion of Analysis\n",
    "\n",
    "- Netflix has a higher volume of movies compared to TV shows.\n",
    "- The majority of content is produced by the US, followed by India.\n",
    "- The platform predominantly features content aimed at mature audiences.\n",
    "- 2018 stands out as the year with the highest volume of content releases, surpassing other years up to 2021.\n",
    "- International movies and dramas are the most popular genres on Netflix."
   ]
  }
 ],
 "metadata": {
  "kernelspec": {
   "display_name": "Python 3 (ipykernel)",
   "language": "python",
   "name": "python3"
  },
  "language_info": {
   "codemirror_mode": {
    "name": "ipython",
    "version": 3
   },
   "file_extension": ".py",
   "mimetype": "text/x-python",
   "name": "python",
   "nbconvert_exporter": "python",
   "pygments_lexer": "ipython3",
   "version": "3.13.2"
  }
 },
 "nbformat": 4,
 "nbformat_minor": 5
}
